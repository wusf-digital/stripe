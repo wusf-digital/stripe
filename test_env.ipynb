{
 "cells": [
  {
   "cell_type": "code",
   "execution_count": 1,
   "id": "7eaebc79-834f-4def-895a-7724de464095",
   "metadata": {},
   "outputs": [],
   "source": [
    "import stripe\n",
    "import datetime\n",
    "import os\n",
    "from typing import List"
   ]
  },
  {
   "cell_type": "markdown",
   "id": "b081208b-dcf7-49a3-ac7f-50740781300f",
   "metadata": {},
   "source": [
    "# Set API Key as Environment Variable\n",
    "On a mac, go to ~/.zshrc and EXPORT STRIPE_TEST_API_KEY=whateverthekeyis<br>\n",
    "Then either reboot or type source ~/.zshrc\n",
    "\n",
    "In Windows, refer to this site: https://www.computerhope.com/issues/ch000549.htm#windows11<br>\n",
    "You might need to reboot."
   ]
  },
  {
   "cell_type": "code",
   "execution_count": 2,
   "id": "bdc2cc1a-9c6c-4360-b30b-71088f18dcdf",
   "metadata": {
    "tags": []
   },
   "outputs": [],
   "source": [
    "stripe.api_key = os.environ.get(\"STRIPE_TEST_API_KEY\")"
   ]
  },
  {
   "cell_type": "markdown",
   "id": "b9ba4af9-d983-43ed-8724-250038e38d35",
   "metadata": {},
   "source": [
    "# Specify Date Range"
   ]
  },
  {
   "cell_type": "code",
   "execution_count": 3,
   "id": "ca3b7bb1-842f-4116-a07c-315df57ce3b8",
   "metadata": {},
   "outputs": [],
   "source": [
    "START_DATE = 'Mar 30 2022'\n",
    "END_DATE = 'Aug 10 2022'"
   ]
  },
  {
   "cell_type": "markdown",
   "id": "7327bc2f-2d9f-4ff6-8088-cb4561458c75",
   "metadata": {},
   "source": [
    "# General Utility Functions"
   ]
  },
  {
   "cell_type": "code",
   "execution_count": 4,
   "id": "ab7db7f5-c80c-4b60-806c-e6c7adce1d52",
   "metadata": {
    "tags": []
   },
   "outputs": [],
   "source": [
    "def convert_epoch_to_timestamp(epoch: int) -> datetime.datetime:\n",
    "    \"\"\"\n",
    "    Converts timestamp, provided as the epoch, \n",
    "    from stripe to a python datetime object\n",
    "    \"\"\"\n",
    "    return datetime.datetime.fromtimestamp(epoch)\n",
    "\n",
    "def convert_timestamp_to_epoch(date: str) -> int:\n",
    "    \"\"\"\n",
    "    Converts date string in the form of Mar 30 2022 (%b %d %Y)\n",
    "    to number of seconds since epoch. Date is in UTC time, so\n",
    "    Mar 30 2022 passed in as an argument would be returned as \n",
    "    0000 UTC on Mar 30 2022.\n",
    "    \"\"\"\n",
    "    dt_obj = datetime.datetime.strptime(date, '%b %d %Y')\n",
    "    timestamp = dt_obj.replace(tzinfo=datetime.timezone.utc).timestamp()\n",
    "    return int(timestamp)\n",
    "\n",
    "def convert_timestamp_to_friendly(dt_obj: datetime.datetime) -> datetime.datetime:\n",
    "    \"\"\"\n",
    "    Converts python datetime object to a\n",
    "    friendly date-time that works with Allegiance\n",
    "    \"\"\"\n",
    "    return dt_obj.strftime('%b %-d, %Y, %-I:%M:%S %p')\n",
    "\n",
    "def convert_cents_to_dollars(cents: int) -> int:\n",
    "    \"\"\"\n",
    "    Converts cents to USD with appropriate number of decimal points\n",
    "    \"\"\"\n",
    "    return \"{:.2f}\".format(cents / 100)\n",
    "\n",
    "def combine_card_expiration_month_year(card_expiration_month: List[int], \n",
    "                                       card_expiration_year: List[int]) -> List[str]:\n",
    "    \"\"\"\n",
    "    Combines credit card expiration month and year\n",
    "    \"\"\"\n",
    "    card_expiration = []\n",
    "    for month in card_expiration_month:\n",
    "        for year in card_expiration_year:\n",
    "            card_expiration.append(str(month) + '/' + str(year))\n",
    "    return card_expiration\n",
    "\n",
    "def retrieve_customer_name(customer_id: str) -> str:\n",
    "    \"\"\"\n",
    "    Returns the full name of the customer based on the Stripe Customer ID\n",
    "    If no customer ID is present, return NONAME\n",
    "    \"\"\"\n",
    "    if customer_id is None:\n",
    "        return 'NONAME'\n",
    "    \n",
    "    customer_obj = stripe.Customer.retrieve(customer_id)\n",
    "    return customer_obj['name']"
   ]
  },
  {
   "cell_type": "markdown",
   "id": "4d65fca9-23f7-47a3-b449-67a0edbf9cbd",
   "metadata": {},
   "source": [
    "# Retrieve Required Objects from Stripe"
   ]
  },
  {
   "cell_type": "code",
   "execution_count": 5,
   "id": "8b90a73d-c2db-45c3-a5d6-e7aab804e385",
   "metadata": {},
   "outputs": [],
   "source": [
    "charges = stripe.Charge.list(\n",
    "    created={\n",
    "        'gt': convert_timestamp_to_epoch(START_DATE),\n",
    "        'lt': convert_timestamp_to_epoch(END_DATE)\n",
    "    }\n",
    ")\n",
    "payouts = stripe.Payout.list(\n",
    "    created={\n",
    "        'gt': convert_timestamp_to_epoch(START_DATE),\n",
    "        'lt': convert_timestamp_to_epoch(END_DATE)\n",
    "    }\n",
    ")\n",
    "balance_transactions = stripe.BalanceTransaction.list(limit=3)"
   ]
  },
  {
   "cell_type": "markdown",
   "id": "a13e20b2-239d-4989-a94c-fbb00d1e81d7",
   "metadata": {},
   "source": [
    "# Retrieve Dates\n",
    "These values are dates/times of the transaction"
   ]
  },
  {
   "cell_type": "code",
   "execution_count": 6,
   "id": "0dfed17b-24c5-4bcc-8fa5-47c34ae786b7",
   "metadata": {},
   "outputs": [],
   "source": [
    "dates = [convert_epoch_to_timestamp(charge['created']) for charge in charges['data']]\n",
    "friendly = [convert_timestamp_to_friendly(date) for date in dates]"
   ]
  },
  {
   "cell_type": "markdown",
   "id": "03f6ba88-aa05-4bd8-b71a-94cfbc47f8f1",
   "metadata": {},
   "source": [
    "# Retrieve Amounts Charged/Donated"
   ]
  },
  {
   "cell_type": "code",
   "execution_count": 7,
   "id": "ef4e4615-5f89-4fc6-8175-3ec4288cd3af",
   "metadata": {},
   "outputs": [],
   "source": [
    "amounts = [convert_cents_to_dollars(charge['amount']) for charge in charges['data']]"
   ]
  },
  {
   "cell_type": "markdown",
   "id": "c3ffe430-f592-4e59-9ff4-2adc312371a8",
   "metadata": {},
   "source": [
    "# Retrieve Payment Intent\n",
    "This value (prefixed by \"pi_\" replaces Verisign Key)"
   ]
  },
  {
   "cell_type": "code",
   "execution_count": 8,
   "id": "c196baed-28b1-4fea-a042-949887f71dba",
   "metadata": {},
   "outputs": [],
   "source": [
    "intent = [charge['payment_intent'] for charge in charges['data']]"
   ]
  },
  {
   "cell_type": "markdown",
   "id": "4d02c2a9-2465-4bfd-87f0-48352a69e8f4",
   "metadata": {},
   "source": [
    "# Retrieve Credit Card Data"
   ]
  },
  {
   "cell_type": "code",
   "execution_count": 9,
   "id": "848bb574-5c2c-4ac4-b7b6-f8ad34d029a7",
   "metadata": {},
   "outputs": [],
   "source": [
    "card_brands = [charge['source']['card']['brand'] for charge in charges['data']]\n",
    "last_fours = [charge['source']['card']['last4'] for charge in charges['data']]\n",
    "card_expiration_months = [charge['source']['card']['exp_month'] for charge in charges['data']]\n",
    "card_expiration_years = [charge['source']['card']['exp_year'] for charge in charges['data']]\n",
    "card_expirations = combine_card_expiration_month_year(card_expiration_months, card_expiration_years)"
   ]
  },
  {
   "cell_type": "markdown",
   "id": "f364391e-02be-43e6-a051-b8421741feb8",
   "metadata": {},
   "source": [
    "# Retrieve Customer Data based on the ID of Transaction\n",
    "This value is prefixed by \"cus_\". If no ID is present, customer=None"
   ]
  },
  {
   "cell_type": "code",
   "execution_count": 10,
   "id": "a16287bc-3981-4df2-add0-66a1b4f63e37",
   "metadata": {},
   "outputs": [],
   "source": [
    "customer_ids = [charge['customer'] for charge in charges['data']]\n",
    "customer_names = [retrieve_customer_name(customer_id) for customer_id in customer_ids]"
   ]
  },
  {
   "cell_type": "markdown",
   "id": "5d9a03d7-1018-454e-88d2-cf6832617643",
   "metadata": {},
   "source": [
    "# Stripe Payout ID\n",
    "This value (prefixed by \"po_\") will be used for the batch number"
   ]
  },
  {
   "cell_type": "code",
   "execution_count": 11,
   "id": "9b883a7d-5bca-4167-ab45-ac88c9bb870c",
   "metadata": {},
   "outputs": [
    {
     "name": "stdout",
     "output_type": "stream",
     "text": [
      "po_1LSWc2F2quY7yoKLUIrASHCG\n"
     ]
    }
   ],
   "source": [
    "payout_id = [print(payout['id']) for payout in payouts['data']]"
   ]
  },
  {
   "cell_type": "markdown",
   "id": "a5a5b463-9693-4ffd-b365-db3bce6d69b9",
   "metadata": {},
   "source": [
    "# Output Data / Final Results\n",
    "Note to self: I need to include refunds. How do those presently appear in PayPal report?"
   ]
  },
  {
   "cell_type": "code",
   "execution_count": 12,
   "id": "75c4b985-a642-4b1b-8f1b-843b5d7cb164",
   "metadata": {
    "tags": []
   },
   "outputs": [
    {
     "name": "stdout",
     "output_type": "stream",
     "text": [
      "('pi_3Kj8PAF2quY7yoKL0i4IgUOt', 'Mar 30, 2022, 4:46:13 PM', 'Discover', '1117', '1.00', '3/2026', '1.00', 'Mickey Mouse')\n",
      "('pi_3Kj8FtF2quY7yoKL1QWXjNkE', 'Mar 30, 2022, 4:36:37 PM', 'American Express', '0005', '3.00', '3/2024', '3.00', 'NONAME')\n",
      "('pi_3Kj8DTF2quY7yoKL1HLhuyQc', 'Mar 30, 2022, 4:34:07 PM', 'MasterCard', '4444', '2.00', '3/2023', '2.00', 'NONAME')\n"
     ]
    }
   ],
   "source": [
    "results = list(zip(intent, friendly, card_brands, last_fours, amounts, \n",
    "                   card_expirations, amounts, customer_names))\n",
    "\n",
    "print(*results, sep='\\n')"
   ]
  },
  {
   "cell_type": "code",
   "execution_count": null,
   "id": "da1d1603-194c-4643-9be3-4af3720f0698",
   "metadata": {},
   "outputs": [],
   "source": []
  }
 ],
 "metadata": {
  "kernelspec": {
   "display_name": "Python 3",
   "language": "python",
   "name": "python3"
  },
  "language_info": {
   "codemirror_mode": {
    "name": "ipython",
    "version": 3
   },
   "file_extension": ".py",
   "mimetype": "text/x-python",
   "name": "python",
   "nbconvert_exporter": "python",
   "pygments_lexer": "ipython3",
   "version": "3.9.12"
  }
 },
 "nbformat": 4,
 "nbformat_minor": 5
}
